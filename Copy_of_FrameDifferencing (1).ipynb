{
  "nbformat": 4,
  "nbformat_minor": 0,
  "metadata": {
    "colab": {
      "provenance": []
    },
    "kernelspec": {
      "name": "python3",
      "display_name": "Python 3"
    },
    "language_info": {
      "name": "python"
    }
  },
  "cells": [
    {
      "cell_type": "code",
      "source": [
        "!pip install opencv-python"
      ],
      "metadata": {
        "colab": {
          "base_uri": "https://localhost:8080/"
        },
        "id": "vrqQYYo9wzSv",
        "outputId": "a05b6dd6-2a2d-40a9-8f8e-1540dd6fa07b"
      },
      "execution_count": 2,
      "outputs": [
        {
          "output_type": "stream",
          "name": "stdout",
          "text": [
            "Requirement already satisfied: opencv-python in /usr/local/lib/python3.11/dist-packages (4.11.0.86)\n",
            "Requirement already satisfied: numpy>=1.21.2 in /usr/local/lib/python3.11/dist-packages (from opencv-python) (2.0.2)\n"
          ]
        }
      ]
    },
    {
      "cell_type": "code",
      "source": [
        "import cv2\n",
        "from google.colab.patches import cv2_imshow\n",
        "import numpy as np"
      ],
      "metadata": {
        "id": "Y5vBLiWxw4_p"
      },
      "execution_count": 3,
      "outputs": []
    },
    {
      "cell_type": "code",
      "source": [
        "vid = '/content/368626124898930692.mp4'\n",
        "cap = cv2.VideoCapture(vid)\n"
      ],
      "metadata": {
        "id": "tUwRrvRow_K4"
      },
      "execution_count": 4,
      "outputs": []
    },
    {
      "cell_type": "code",
      "source": [
        "mog2 = cv2.createBackgroundSubtractorMOG2(history=100, varThreshold=50, detectShadows=True)"
      ],
      "metadata": {
        "id": "WjymDnSV2cyx"
      },
      "execution_count": 5,
      "outputs": []
    },
    {
      "cell_type": "code",
      "source": [
        "ret, frame1 = cap.read()\n",
        "ret2, frame2 = cap.read()"
      ],
      "metadata": {
        "id": "it5yYMFe2g6f"
      },
      "execution_count": 6,
      "outputs": []
    },
    {
      "cell_type": "code",
      "source": [
        "frame_count = 0\n",
        "max_frames = 100  # Limiting no. of frames\n",
        "\n",
        "while ret and ret2 and frame_count < max_frames:\n",
        "    # Frame Differencing\n",
        "    diff = cv2.absdiff(frame1, frame2)\n",
        "    gray = cv2.cvtColor(diff, cv2.COLOR_BGR2GRAY)\n",
        "    blur = cv2.GaussianBlur(gray, (5, 5), 0)\n",
        "    _, thresh = cv2.threshold(blur, 25, 255, cv2.THRESH_BINARY)\n",
        "    dilated = cv2.dilate(thresh, None, iterations=2)\n",
        "\n",
        "    contours, _ = cv2.findContours(dilated, cv2.RETR_EXTERNAL, cv2.CHAIN_APPROX_SIMPLE)\n",
        "    fd_frame = frame1.copy()\n",
        "    motion_detected = False\n",
        "\n",
        "    for contour in contours:\n",
        "        if cv2.contourArea(contour) < 800:\n",
        "            continue\n",
        "        x, y, w, h = cv2.boundingRect(contour)\n",
        "        cv2.rectangle(fd_frame, (x, y), (x + w, y + h), (0, 255, 0), 2)\n",
        "        motion_detected = True\n",
        "\n",
        "    # Background Subtraction using MOG2\n",
        "    fgmask = mog2.apply(frame1)\n",
        "    _, fgmask_clean = cv2.threshold(fgmask, 244, 255, cv2.THRESH_BINARY)\n",
        "\n",
        "    # Display\n",
        "    print(f\" Frame {frame_count + 1}: Motion Detected {'YES' if motion_detected else 'NO'}\")\n",
        "\n",
        "    # Prepare for next frame\n",
        "    frame1 = frame2\n",
        "    ret2, frame2 = cap.read()\n",
        "    frame_count += 1\n",
        "\n",
        "cap.release()"
      ],
      "metadata": {
        "colab": {
          "base_uri": "https://localhost:8080/"
        },
        "id": "Qxadl7mT2oLf",
        "outputId": "4e26dc2d-8789-486a-c9ee-a6e2dbef82d7"
      },
      "execution_count": 7,
      "outputs": [
        {
          "output_type": "stream",
          "name": "stdout",
          "text": [
            " Frame 1: Motion Detected NO\n",
            " Frame 2: Motion Detected NO\n",
            " Frame 3: Motion Detected NO\n",
            " Frame 4: Motion Detected NO\n",
            " Frame 5: Motion Detected NO\n",
            " Frame 6: Motion Detected NO\n",
            " Frame 7: Motion Detected NO\n",
            " Frame 8: Motion Detected NO\n",
            " Frame 9: Motion Detected NO\n",
            " Frame 10: Motion Detected NO\n",
            " Frame 11: Motion Detected NO\n",
            " Frame 12: Motion Detected NO\n",
            " Frame 13: Motion Detected NO\n",
            " Frame 14: Motion Detected NO\n",
            " Frame 15: Motion Detected NO\n",
            " Frame 16: Motion Detected NO\n",
            " Frame 17: Motion Detected NO\n",
            " Frame 18: Motion Detected NO\n",
            " Frame 19: Motion Detected NO\n",
            " Frame 20: Motion Detected NO\n",
            " Frame 21: Motion Detected NO\n",
            " Frame 22: Motion Detected NO\n",
            " Frame 23: Motion Detected NO\n",
            " Frame 24: Motion Detected NO\n",
            " Frame 25: Motion Detected YES\n",
            " Frame 26: Motion Detected YES\n",
            " Frame 27: Motion Detected YES\n",
            " Frame 28: Motion Detected YES\n",
            " Frame 29: Motion Detected YES\n",
            " Frame 30: Motion Detected YES\n",
            " Frame 31: Motion Detected YES\n",
            " Frame 32: Motion Detected YES\n",
            " Frame 33: Motion Detected YES\n",
            " Frame 34: Motion Detected YES\n",
            " Frame 35: Motion Detected YES\n",
            " Frame 36: Motion Detected YES\n",
            " Frame 37: Motion Detected YES\n",
            " Frame 38: Motion Detected YES\n",
            " Frame 39: Motion Detected YES\n",
            " Frame 40: Motion Detected YES\n",
            " Frame 41: Motion Detected YES\n",
            " Frame 42: Motion Detected YES\n",
            " Frame 43: Motion Detected YES\n",
            " Frame 44: Motion Detected YES\n",
            " Frame 45: Motion Detected YES\n",
            " Frame 46: Motion Detected YES\n",
            " Frame 47: Motion Detected YES\n",
            " Frame 48: Motion Detected YES\n",
            " Frame 49: Motion Detected YES\n",
            " Frame 50: Motion Detected YES\n",
            " Frame 51: Motion Detected YES\n",
            " Frame 52: Motion Detected YES\n",
            " Frame 53: Motion Detected YES\n",
            " Frame 54: Motion Detected YES\n",
            " Frame 55: Motion Detected YES\n",
            " Frame 56: Motion Detected YES\n",
            " Frame 57: Motion Detected YES\n",
            " Frame 58: Motion Detected YES\n",
            " Frame 59: Motion Detected YES\n",
            " Frame 60: Motion Detected YES\n",
            " Frame 61: Motion Detected YES\n",
            " Frame 62: Motion Detected YES\n",
            " Frame 63: Motion Detected YES\n",
            " Frame 64: Motion Detected YES\n",
            " Frame 65: Motion Detected YES\n",
            " Frame 66: Motion Detected YES\n",
            " Frame 67: Motion Detected YES\n",
            " Frame 68: Motion Detected YES\n",
            " Frame 69: Motion Detected YES\n",
            " Frame 70: Motion Detected YES\n",
            " Frame 71: Motion Detected YES\n",
            " Frame 72: Motion Detected YES\n",
            " Frame 73: Motion Detected YES\n",
            " Frame 74: Motion Detected YES\n",
            " Frame 75: Motion Detected YES\n",
            " Frame 76: Motion Detected YES\n",
            " Frame 77: Motion Detected YES\n",
            " Frame 78: Motion Detected YES\n",
            " Frame 79: Motion Detected YES\n",
            " Frame 80: Motion Detected YES\n",
            " Frame 81: Motion Detected YES\n",
            " Frame 82: Motion Detected YES\n",
            " Frame 83: Motion Detected YES\n",
            " Frame 84: Motion Detected YES\n",
            " Frame 85: Motion Detected YES\n",
            " Frame 86: Motion Detected YES\n",
            " Frame 87: Motion Detected YES\n",
            " Frame 88: Motion Detected YES\n",
            " Frame 89: Motion Detected YES\n",
            " Frame 90: Motion Detected YES\n",
            " Frame 91: Motion Detected YES\n",
            " Frame 92: Motion Detected YES\n",
            " Frame 93: Motion Detected YES\n",
            " Frame 94: Motion Detected YES\n",
            " Frame 95: Motion Detected YES\n",
            " Frame 96: Motion Detected YES\n",
            " Frame 97: Motion Detected YES\n",
            " Frame 98: Motion Detected YES\n",
            " Frame 99: Motion Detected YES\n",
            " Frame 100: Motion Detected YES\n"
          ]
        }
      ]
    }
  ]
}